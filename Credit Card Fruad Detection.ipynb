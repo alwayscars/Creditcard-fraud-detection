{
 "cells": [
  {
   "cell_type": "code",
   "execution_count": 20,
   "id": "4df1a21e-0921-4c0e-b8d8-89b091487ca7",
   "metadata": {},
   "outputs": [],
   "source": [
    "import pandas as pd\n",
    "from sklearn.preprocessing import StandardScaler\n",
    "from sklearn.preprocessing import MinMaxScaler\n",
    "import matplotlib.pyplot as plt"
   ]
  },
  {
   "cell_type": "code",
   "execution_count": 1,
   "id": "5e191873-c39c-4312-a596-aca75d2ca24b",
   "metadata": {},
   "outputs": [
    {
     "ename": "NameError",
     "evalue": "name 'pd' is not defined",
     "output_type": "error",
     "traceback": [
      "\u001b[1;31m---------------------------------------------------------------------------\u001b[0m",
      "\u001b[1;31mNameError\u001b[0m                                 Traceback (most recent call last)",
      "Cell \u001b[1;32mIn[1], line 1\u001b[0m\n\u001b[1;32m----> 1\u001b[0m df \u001b[38;5;241m=\u001b[39m pd\u001b[38;5;241m.\u001b[39mread_csv(\u001b[38;5;124m\"\u001b[39m\u001b[38;5;124mC:\u001b[39m\u001b[38;5;130;01m\\\\\u001b[39;00m\u001b[38;5;124mUsers\u001b[39m\u001b[38;5;130;01m\\\\\u001b[39;00m\u001b[38;5;124mvikne\u001b[39m\u001b[38;5;130;01m\\\\\u001b[39;00m\u001b[38;5;124mDownloads\u001b[39m\u001b[38;5;130;01m\\\\\u001b[39;00m\u001b[38;5;124mUser0_credit_card_transactions.csv\u001b[39m\u001b[38;5;124m\"\u001b[39m)\n\u001b[0;32m      2\u001b[0m df\u001b[38;5;241m.\u001b[39mhead()\n",
      "\u001b[1;31mNameError\u001b[0m: name 'pd' is not defined"
     ]
    }
   ],
   "source": [
    "df = pd.read_csv(\"C:\\\\Users\\\\vikne\\\\Downloads\\\\User0_credit_card_transactions.csv\")\n",
    "df.head()"
   ]
  },
  {
   "cell_type": "markdown",
   "id": "1f619b76-a72e-43ef-9472-02889f8c2486",
   "metadata": {},
   "source": [
    "# df.info()"
   ]
  },
  {
   "cell_type": "code",
   "execution_count": 30,
   "id": "1f7ca7c7-7684-404e-abe0-fa17080bee6c",
   "metadata": {},
   "outputs": [
    {
     "data": {
      "text/plain": [
       "User                  0\n",
       "Card                  0\n",
       "Year                  0\n",
       "Month                 0\n",
       "Day                   0\n",
       "Time                  0\n",
       "Amount                0\n",
       "Use Chip              0\n",
       "Merchant Name         0\n",
       "Merchant City         0\n",
       "Merchant State     1317\n",
       "Zip                1647\n",
       "MCC                   0\n",
       "Errors?           19389\n",
       "Is Fraud?             0\n",
       "dtype: int64"
      ]
     },
     "execution_count": 30,
     "metadata": {},
     "output_type": "execute_result"
    }
   ],
   "source": [
    "df.isna().sum()"
   ]
  },
  {
   "cell_type": "code",
   "execution_count": 32,
   "id": "07a0c0a4-7a2d-4df5-a733-bb38136d17ac",
   "metadata": {},
   "outputs": [
    {
     "data": {
      "text/plain": [
       "22353"
      ]
     },
     "execution_count": 32,
     "metadata": {},
     "output_type": "execute_result"
    }
   ],
   "source": [
    "df.isnull() .sum() .sum()"
   ]
  },
  {
   "cell_type": "code",
   "execution_count": 38,
   "id": "ea90b105-4369-4831-8bf4-2fe6564ccaba",
   "metadata": {},
   "outputs": [
    {
     "name": "stderr",
     "output_type": "stream",
     "text": [
      "C:\\Users\\vikne\\AppData\\Local\\Temp\\ipykernel_7104\\3721328255.py:2: FutureWarning: A value is trying to be set on a copy of a DataFrame or Series through chained assignment using an inplace method.\n",
      "The behavior will change in pandas 3.0. This inplace method will never work because the intermediate object on which we are setting values always behaves as a copy.\n",
      "\n",
      "For example, when doing 'df[col].method(value, inplace=True)', try using 'df.method({col: value}, inplace=True)' or df[col] = df[col].method(value) instead, to perform the operation inplace on the original object.\n",
      "\n",
      "\n",
      "  df['Merchant State'].fillna(value=mean_value, inplace=True)\n"
     ]
    }
   ],
   "source": [
    "mean_value=df['Merchant State'].mode()\n",
    "df['Merchant State'].fillna(value=mean_value, inplace=True)"
   ]
  },
  {
   "cell_type": "code",
   "execution_count": 40,
   "id": "d558702b-a1c6-41bc-b310-9fc28e9029db",
   "metadata": {},
   "outputs": [
    {
     "data": {
      "text/plain": [
       "User                  0\n",
       "Card                  0\n",
       "Year                  0\n",
       "Month                 0\n",
       "Day                   0\n",
       "Time                  0\n",
       "Amount                0\n",
       "Use Chip              0\n",
       "Merchant Name         0\n",
       "Merchant City         0\n",
       "Merchant State     1317\n",
       "Zip                1647\n",
       "MCC                   0\n",
       "Errors?           19389\n",
       "Is Fraud?             0\n",
       "dtype: int64"
      ]
     },
     "execution_count": 40,
     "metadata": {},
     "output_type": "execute_result"
    }
   ],
   "source": [
    "df.isna().sum()"
   ]
  },
  {
   "cell_type": "code",
   "execution_count": 19,
   "id": "ff2c0825-a658-4461-81af-84a4f1898a41",
   "metadata": {},
   "outputs": [
    {
     "data": {
      "text/plain": [
       "Index(['User', 'Card', 'Year', 'Month', 'Day', 'Amount', 'UseChip',\n",
       "       'MerchantName', 'MerchantCity', 'MerchantState', 'Zip', 'MCC',\n",
       "       'target'],\n",
       "      dtype='object')"
      ]
     },
     "execution_count": 19,
     "metadata": {},
     "output_type": "execute_result"
    }
   ],
   "source": [
    "df.columns"
   ]
  },
  {
   "cell_type": "code",
   "execution_count": 12,
   "id": "8f60b736-0215-4ffd-9bd4-e57d2bd2c455",
   "metadata": {},
   "outputs": [
    {
     "data": {
      "text/plain": [
       "target\n",
       "No     872\n",
       "Yes    872\n",
       "Name: count, dtype: int64"
      ]
     },
     "execution_count": 12,
     "metadata": {},
     "output_type": "execute_result"
    }
   ],
   "source": [
    "df['target'].value_counts()"
   ]
  },
  {
   "cell_type": "code",
   "execution_count": null,
   "id": "40e9acd5-6c00-40f1-ad69-c302ae078e06",
   "metadata": {},
   "outputs": [],
   "source": []
  }
 ],
 "metadata": {
  "kernelspec": {
   "display_name": "Python 3 (ipykernel)",
   "language": "python",
   "name": "python3"
  },
  "language_info": {
   "codemirror_mode": {
    "name": "ipython",
    "version": 3
   },
   "file_extension": ".py",
   "mimetype": "text/x-python",
   "name": "python",
   "nbconvert_exporter": "python",
   "pygments_lexer": "ipython3",
   "version": "3.12.4"
  }
 },
 "nbformat": 4,
 "nbformat_minor": 5
}
